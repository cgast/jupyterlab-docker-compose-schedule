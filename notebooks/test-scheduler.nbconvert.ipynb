{
 "cells": [
  {
   "cell_type": "code",
   "execution_count": 1,
   "id": "bff381c8-e7a1-45dc-b307-3b252157058f",
   "metadata": {
    "execution": {
     "iopub.execute_input": "2023-03-12T20:43:10.823589Z",
     "iopub.status.busy": "2023-03-12T20:43:10.821483Z",
     "iopub.status.idle": "2023-03-12T20:43:10.896917Z",
     "shell.execute_reply": "2023-03-12T20:43:10.890843Z"
    },
    "tags": []
   },
   "outputs": [
    {
     "name": "stdout",
     "output_type": "stream",
     "text": [
      "INFO:root:Hi! Shooting from jupyter-scheduler. Current time: 2023-03-12 20:43:10.879935\n"
     ]
    }
   ],
   "source": [
    "import datetime\n",
    "import logging\n",
    "import sys\n",
    "\n",
    "logging.basicConfig(stream=sys.stdout, level=logging.INFO)\n",
    "\n",
    "logging.info(f\"Hi! Shooting from jupyter-scheduler. Current time: {datetime.datetime.now()}\")"
   ]
  },
  {
   "cell_type": "code",
   "execution_count": 2,
   "id": "277b908b-09d0-410e-aca2-838947d08134",
   "metadata": {
    "execution": {
     "iopub.execute_input": "2023-03-12T20:43:10.919954Z",
     "iopub.status.busy": "2023-03-12T20:43:10.918007Z",
     "iopub.status.idle": "2023-03-12T20:43:10.945787Z",
     "shell.execute_reply": "2023-03-12T20:43:10.939337Z"
    },
    "tags": []
   },
   "outputs": [
    {
     "name": "stdout",
     "output_type": "stream",
     "text": [
      "2023-03-12 20:43:10.928080\n"
     ]
    }
   ],
   "source": [
    "print(datetime.datetime.now())"
   ]
  }
 ],
 "metadata": {
  "kernelspec": {
   "display_name": "Python 3 (ipykernel)",
   "language": "python",
   "name": "python3"
  },
  "language_info": {
   "codemirror_mode": {
    "name": "ipython",
    "version": 3
   },
   "file_extension": ".py",
   "mimetype": "text/x-python",
   "name": "python",
   "nbconvert_exporter": "python",
   "pygments_lexer": "ipython3",
   "version": "3.10.9"
  }
 },
 "nbformat": 4,
 "nbformat_minor": 5
}
